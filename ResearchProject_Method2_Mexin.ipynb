{
  "cells": [
    {
      "cell_type": "markdown",
      "metadata": {
        "id": "view-in-github",
        "colab_type": "text"
      },
      "source": [
        "<a href=\"https://colab.research.google.com/github/hashwnath/Mexin/blob/main/ResearchProject_Method2_Mexin.ipynb\" target=\"_parent\"><img src=\"https://colab.research.google.com/assets/colab-badge.svg\" alt=\"Open In Colab\"/></a>"
      ]
    },
    {
      "cell_type": "markdown",
      "source": [
        "**Installing and importing Required Libraries **"
      ],
      "metadata": {
        "id": "D8lrmoqNTlDT"
      }
    },
    {
      "cell_type": "code",
      "execution_count": null,
      "metadata": {
        "id": "mZuw3lQDMtXi"
      },
      "outputs": [],
      "source": [
        "!pip install anvil-uplink"
      ]
    },
    {
      "cell_type": "code",
      "execution_count": null,
      "metadata": {
        "id": "wz4LpdP0NMb2"
      },
      "outputs": [],
      "source": [
        "import anvil.server\n",
        "anvil.server.connect(\"JIESLZXVBTSUSF7V2VKXYUNY-TCVCAEKEGU2ZOSJD\")"
      ]
    },
    {
      "cell_type": "code",
      "execution_count": null,
      "metadata": {
        "id": "fWKu7ZygC3x-"
      },
      "outputs": [],
      "source": [
        "pip install indic-nlp-library"
      ]
    },
    {
      "cell_type": "code",
      "execution_count": null,
      "metadata": {
        "id": "7X_4DZdTEN8r"
      },
      "outputs": [],
      "source": [
        "#done\n",
        "import string\n",
        "import re\n",
        "from numpy import array, argmax, random, take\n",
        "import numpy as np\n",
        "import pandas as pd\n",
        "import matplotlib.pyplot as plt\n",
        "from indicnlp.transliterate.unicode_transliterate import ItransTransliterator\n",
        "import difflib"
      ]
    },
    {
      "cell_type": "code",
      "execution_count": null,
      "metadata": {
        "colab": {
          "base_uri": "https://localhost:8080/"
        },
        "id": "dbNrlfmdO_-N",
        "outputId": "3a903917-2013-46b2-aea5-582a59289f14"
      },
      "outputs": [
        {
          "output_type": "stream",
          "name": "stdout",
          "text": [
            "Looking in indexes: https://pypi.org/simple, https://us-python.pkg.dev/colab-wheels/public/simple/\n",
            "Looking in links: https://download.pytorch.org/whl/torch_stable.html\n"
          ]
        }
      ],
      "source": [
        "pip install torch==1.3.0+cpu -f https://download.pytorch.org/whl/torch_stable.html"
      ]
    },
    {
      "cell_type": "code",
      "execution_count": null,
      "metadata": {
        "id": "X0EYVeFbPGF0"
      },
      "outputs": [],
      "source": [
        "pip install inltk"
      ]
    },
    {
      "cell_type": "code",
      "execution_count": null,
      "metadata": {
        "id": "03_VhyvvPId6"
      },
      "outputs": [],
      "source": [
        "#done\n",
        "from inltk.inltk import setup\n",
        "from inltk.inltk import get_similar_sentences"
      ]
    },
    {
      "cell_type": "markdown",
      "source": [
        "**setting up language for NLP processing**"
      ],
      "metadata": {
        "id": "aH5zM6kSTx1S"
      }
    },
    {
      "cell_type": "code",
      "execution_count": null,
      "metadata": {
        "id": "mrBBdXjFPOfh"
      },
      "outputs": [],
      "source": [
        "#done\n",
        "setup('te')"
      ]
    },
    {
      "cell_type": "code",
      "execution_count": null,
      "metadata": {
        "id": "e_go4UUaOEuC"
      },
      "outputs": [],
      "source": [
        "pip install googletrans==3.1.0a"
      ]
    },
    {
      "cell_type": "code",
      "execution_count": null,
      "metadata": {
        "id": "FhFOa7NtR7zk"
      },
      "outputs": [],
      "source": [
        "#done\n",
        "from googletrans import Translator, constants\n",
        "from pprint import pprint"
      ]
    },
    {
      "cell_type": "code",
      "execution_count": null,
      "metadata": {
        "id": "MtD-hUzlLEOx"
      },
      "outputs": [],
      "source": [
        "def similarwords(x,X,corpus):\n",
        "  simwords=difflib.get_close_matches(x, X)\n",
        "  for word in simwords: \n",
        "    if x in word:\n",
        "      return corpus[word]\n",
        "  return x\n",
        "@anvil.server.callable\n",
        "def translatefun(test):\n",
        "  #Importing data------\n",
        "  dataset = pd.read_csv('words.csv')\n",
        "  #making saperate data frames of independent variables and dependent variables\n",
        "  #Telangana words \n",
        "  X = dataset.iloc[:, 0].values #take all rows of 1st column   \n",
        "  #Telugu words (Target, can be changed later)\n",
        "  y = dataset.iloc[:, 1].values  #take all rows of 2rd column\n",
        "  #Creation of corpus(dictionary)\n",
        "  wordpairs=[[X[i], y[i]] for i in range(0, len(X))]\n",
        "  wordpairs = array(wordpairs) #making wordpairs into array form\n",
        "  corpus = dict(zip(X, y))\n",
        "  testTel = test.split() #tokenization - lexical analysis\n",
        "  # Apply NLP on this after building (in next step)  #test->temp\n",
        "  temp=\"\" #telugu equivalent sentence\n",
        "  for x in testTel: \n",
        "    if x in corpus:\n",
        "      temp+=corpus[x]+\" \" #-- Use diff lib in this case \n",
        "    else:\n",
        "      simword=similarwords(x,X,corpus)     \n",
        "      temp+=simword+\" \"     #if given word does not exist then directly use/apply library on telangana word\n",
        "  simsent = get_similar_sentences(temp, 1, 'te') # 1 is no.of similar sentenses we need.\n",
        "  temp=simsent[0]\n",
        "  # initialise the  translator \n",
        "  translator = Translator()\n",
        "  # translate  telugu text to english text (by default)  \n",
        "  translation = translator.translate(temp)\n",
        "  english_text=translation.text\n",
        "  return english_text;     "
      ]
    },
    {
      "cell_type": "code",
      "execution_count": null,
      "metadata": {
        "id": "b15u4fh2LJ4y"
      },
      "outputs": [],
      "source": [
        "test = \"జల్ద సోంచాయించా\"\n",
        "print(translatefun(test))"
      ]
    },
    {
      "cell_type": "code",
      "execution_count": null,
      "metadata": {
        "id": "AcTfIuz-Ntpq"
      },
      "outputs": [],
      "source": [
        "anvil.server.wait_forever()"
      ]
    }
  ],
  "metadata": {
    "colab": {
      "collapsed_sections": [],
      "name": "ResearchProject Method2_Mexin.ipynb",
      "provenance": [],
      "authorship_tag": "ABX9TyOW9i/OYCcHuH86uNLOITrG",
      "include_colab_link": true
    },
    "kernelspec": {
      "display_name": "Python 3",
      "name": "python3"
    },
    "language_info": {
      "name": "python"
    }
  },
  "nbformat": 4,
  "nbformat_minor": 0
}